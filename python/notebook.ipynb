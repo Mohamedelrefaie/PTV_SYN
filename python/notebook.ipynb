{
 "cells": [
  {
   "cell_type": "code",
   "execution_count": 1,
   "metadata": {},
   "outputs": [
    {
     "name": "stdout",
     "output_type": "stream",
     "text": [
      "Python 3.7.1\n"
     ]
    }
   ],
   "source": [
    "!python --version"
   ]
  },
  {
   "cell_type": "code",
   "execution_count": 6,
   "metadata": {
    "tags": []
   },
   "outputs": [
    {
     "name": "stderr",
     "output_type": "stream",
     "text": [
      "'python3' is not recognized as an internal or external command,\n",
      "operable program or batch file.\n"
     ]
    }
   ],
   "source": [
    "!python3 -m pip install --upgrade pip"
   ]
  },
  {
   "cell_type": "code",
   "execution_count": 3,
   "metadata": {
    "tags": []
   },
   "outputs": [
    {
     "name": "stdout",
     "output_type": "stream",
     "text": [
      "Collecting git+https://github.com/openptv/postptv.git@py3\n",
      "  Cloning https://github.com/openptv/postptv.git (to revision py3) to c:\\users\\alex\\appdata\\local\\temp\\pip-req-build-ilyml_wp\n",
      "Branch 'py3' set up to track remote branch 'py3' from 'origin'.\n",
      "Switched to a new branch 'py3'\n",
      "Requirement already satisfied (use --upgrade to upgrade): flowtracks==1.0 from git+https://github.com/openptv/postptv.git@py3 in c:\\users\\alex\\anaconda3\\lib\\site-packages\n",
      "Building wheels for collected packages: flowtracks\n",
      "  Running setup.py bdist_wheel for flowtracks: started\n",
      "  Running setup.py bdist_wheel for flowtracks: finished with status 'done'\n",
      "  Stored in directory: C:\\Users\\alex\\AppData\\Local\\Temp\\pip-ephem-wheel-cache-p74ha48h\\wheels\\1b\\01\\2b\\0cec8ce085fc1798b1eb737fd4a6e94b199681d7686e8ce1dd\n",
      "Successfully built flowtracks\n"
     ]
    }
   ],
   "source": [
    "!pip install git+https://github.com/openptv/postptv.git@py3"
   ]
  },
  {
   "cell_type": "code",
   "execution_count": 4,
   "metadata": {
    "tags": []
   },
   "outputs": [
    {
     "name": "stdout",
     "output_type": "stream",
     "text": [
      "Requirement already satisfied: hdf5storage in c:\\users\\alex\\anaconda3\\lib\\site-packages (0.1.15)\n",
      "Requirement already satisfied: h5py>=2.1; python_version >= \"3.3\" in c:\\users\\alex\\anaconda3\\lib\\site-packages (from hdf5storage) (2.8.0)\n",
      "Requirement already satisfied: numpy; python_version >= \"3.4\" in c:\\users\\alex\\anaconda3\\lib\\site-packages (from hdf5storage) (1.15.4)\n",
      "Requirement already satisfied: six in c:\\users\\alex\\anaconda3\\lib\\site-packages (from h5py>=2.1; python_version >= \"3.3\"->hdf5storage) (1.12.0)\n"
     ]
    }
   ],
   "source": [
    "!pip install hdf5storage"
   ]
  },
  {
   "cell_type": "code",
   "execution_count": null,
   "metadata": {},
   "outputs": [],
   "source": [
    "# Start writing your code here..."
   ]
  },
  {
   "cell_type": "code",
   "execution_count": null,
   "metadata": {
    "tags": []
   },
   "outputs": [],
   "source": []
  }
 ],
 "metadata": {
  "kernelspec": {
   "display_name": "Python 3",
   "language": "python",
   "name": "python3"
  },
  "language_info": {
   "codemirror_mode": {
    "name": "ipython",
    "version": 3
   },
   "file_extension": ".py",
   "mimetype": "text/x-python",
   "name": "python",
   "nbconvert_exporter": "python",
   "pygments_lexer": "ipython3",
   "version": "3.7.1"
  }
 },
 "nbformat": 4,
 "nbformat_minor": 2
}
